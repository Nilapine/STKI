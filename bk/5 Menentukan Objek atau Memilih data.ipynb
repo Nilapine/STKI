{
 "cells": [
  {
   "cell_type": "markdown",
   "id": "9b4671a0-70f9-4de2-a1cb-a71b7c60fa6c",
   "metadata": {},
   "source": [
    "## MENENTUKAN OBJEK ATAU MEMILIH DATA"
   ]
  },
  {
   "cell_type": "markdown",
   "id": "72911ec2-94ab-48c4-967c-980d67c5a4a6",
   "metadata": {},
   "source": [
    "### Menentukan Sumber Data\n",
    "Sumber data merupakan tempat atau lokasi sebuah data disimpan dan atau diakses untuk dapat dilakukan analisis serta penggunaan lainnya. Pemilihan sumber data harus mempertimbangkan sebuah kendala, akurasi, ketersediaan, serta relvansi data dengan tujuan analisis atau model dari machine learning yang akan digunakan atau di bangun.\n",
    "\n",
    "### Menelaah Susunan Data\n",
    "Melakukan pemeriksaan struktur data untuk memahami bagaimana data diorganisir.\n",
    "Melihat dimensi data, jumlah atribut/kolom, dan jumlah sampel/baris.\n",
    "Menilai apakah data terstruktur (misalnya, data tabel) atau tidak terstruktur (misalnya, data teks atau gambar).\n",
    "### Menentukan Tipe dan Model Data yang dimiliki\n",
    "Identifikasi tipe data untuk setiap atribut (numerik, kategorikal, teks, tanggal, dll.).\n",
    "Penentuan model data yang sesuai untuk analisis atau model machine learning berdasarkan tipe data.\n",
    "Pemahaman tentang apakah data bersifat kontinu, diskret, ordinal, atau nominal.\n",
    "### Mengambil Data\n",
    "Proses pengambilan data dari sumber data ke lingkungan analisis atau pengembangan model machine learning.\n",
    "Menggunakan berbagai metode seperti mengimpor file data (misalnya CSV, Excel), mengakses database, atau menggunakan API untuk mengambil data dari sumber online.\n",
    "### Menelaah Data dalam Machine Learning\n",
    "Melakukan eksplorasi data (data exploration) untuk memahami karakteristik data secara lebih mendalam.\n",
    "Visualisasi data dengan grafik atau plot untuk memahami pola, distribusi, dan korelasi antara atribut.\n",
    "Identifikasi missing value, outlier, dan data yang tidak konsisten untuk diatasi sebelum analisis atau pemodelan.\n",
    "### Sampling Data\n",
    "Sampling adalah teknik utama yang digunakan untuk reduksi data. Sampling data adalah proses pengambilan sebagian kecil dari suatu populasi untuk mewakili seluruh populasi dengan tujuan mengambil kesimpulan atau membuat estimasi. Sampling sering digunakan untuk investigasi awal data dan analisis data akhir.\n",
    "- **Tujuan Sampling Data**<br>\n",
    "    - Mendapatkan data yang relevan dengan penelitian.\n",
    "    - Dapat memberikan estimasi yang akurat jika dilakukan dengan benar.\n",
    "    - Dijadikan acuan untuk mengambil kesimpulan, saran, dan keputusan setelah penelitian dilakukan.\n",
    "- **Keuntungan Sampling Data**<br>\n",
    "    - Dapat menghemat waktu, biaya, dan sumber daya dengan tidak mengumpulkan data dari seluruh populasi.\n",
    "    - Hasil pemeriksaan sampel sangat obyektif dan dapat dipertahankan (objective and defensible).\n",
    "    - Memungkinkan untuk memperkirakan besarnya kesalahan sampling (sampling error).\n",
    "    - Sesuai digunakan saat mengambil kesimpulan tentang data dalam jumlah yang banyak.\n",
    "    - Dapat menentukan banyaknya elemen sampel (sample size) sebelum pemeriksaan dilakukan.\n",
    "5.6.3 Metode Sampling\n",
    "1. Random Sampling\n",
    "   - Setiap anggota populasi memiliki kesempatan yang sama untuk dipilih.\n",
    "   - Keuntungan : menghasilkan sampel yang representatif jika dilakukan dengan benar, meminimalisir bias, dan bisa mengetahui standar error dari penelitian.\n",
    "   - Kekurangan : sampel yang diambil kemungkinan tidak mewakili populasi yang ditentukan.\n",
    "\n"
   ]
  },
  {
   "cell_type": "code",
   "execution_count": 1,
   "id": "7837bc14-8d86-4c6b-b1de-5428de10725c",
   "metadata": {},
   "outputs": [
    {
     "name": "stdout",
     "output_type": "stream",
     "text": [
      "DataFrame Asli:\n",
      "   feature_0  feature_1  feature_2  feature_3  target\n",
      "0        5.1        3.5        1.4        0.2       0\n",
      "1        4.9        3.0        1.4        0.2       0\n",
      "2        4.7        3.2        1.3        0.2       0\n",
      "3        4.6        3.1        1.5        0.2       0\n",
      "4        5.0        3.6        1.4        0.2       0\n",
      "5        5.4        3.9        1.7        0.4       0\n",
      "6        4.6        3.4        1.4        0.3       0\n",
      "7        5.0        3.4        1.5        0.2       0\n",
      "8        4.4        2.9        1.4        0.2       0\n",
      "9        4.9        3.1        1.5        0.1       0\n",
      "\n",
      "DataFrame Setelah Random Sampling:\n",
      "     feature_0  feature_1  feature_2  feature_3  target\n",
      "14         5.8        4.0        1.2        0.2       0\n",
      "98         5.1        2.5        3.0        1.1       1\n",
      "75         6.6        3.0        4.4        1.4       1\n",
      "16         5.4        3.9        1.3        0.4       0\n",
      "131        7.9        3.8        6.4        2.0       2\n",
      "56         6.3        3.3        4.7        1.6       1\n",
      "141        6.9        3.1        5.1        2.3       2\n",
      "44         5.1        3.8        1.9        0.4       0\n",
      "29         4.7        3.2        1.6        0.2       0\n",
      "120        6.9        3.2        5.7        2.3       2\n"
     ]
    }
   ],
   "source": [
    "import pandas as pd\n",
    "from sklearn.datasets import load_iris\n",
    "from sklearn.model_selection import train_test_split\n",
    "\n",
    "    # Load dataset Iris\n",
    "iris = load_iris()\n",
    "X = iris.data\n",
    "y = iris.target\n",
    "\n",
    "    # Buat DataFrame\n",
    "df = pd.DataFrame(data=X, columns=[f'feature_{i}' for i in range(X.shape[1])])\n",
    "df['target'] = y\n",
    "\n",
    "    # Tampilan DataFrame asli\n",
    "print(\"DataFrame Asli:\")\n",
    "print(df.head(10))\n",
    "\n",
    "    # Random Sampling\n",
    "sampled_df = df.sample(n=50, random_state=1)  # Ambil 50 sampel secara acak\n",
    "print(\"\\nDataFrame Setelah Random Sampling:\")\n",
    "print(sampled_df.head(10))"
   ]
  },
  {
   "cell_type": "markdown",
   "id": "1fbfc5a7-9602-4815-96c5-7f3c7e82fa48",
   "metadata": {},
   "source": [
    "2. Stratified Sampling\n",
    "   - Teknik pengambilan sampel jenis ini dilakukan dengan membagi populasi ke dalam tingkatan atau strata tertentu yakni tinggi, sedang, dan rendah. Kemudian diambil sampel tiap tingkatan tersebut.\n",
    "   - Memastikan setiap kelompok diwakili dalam sampel."
   ]
  },
  {
   "cell_type": "code",
   "execution_count": 3,
   "id": "cfd304e7-fbe9-4b1c-8833-aa116dbbbda3",
   "metadata": {},
   "outputs": [
    {
     "name": "stdout",
     "output_type": "stream",
     "text": [
      "DataFrame Asli:\n",
      "   feature_0  feature_1  feature_2  feature_3  target\n",
      "0        5.1        3.5        1.4        0.2       0\n",
      "1        4.9        3.0        1.4        0.2       0\n",
      "2        4.7        3.2        1.3        0.2       0\n",
      "3        4.6        3.1        1.5        0.2       0\n",
      "4        5.0        3.6        1.4        0.2       0\n",
      "5        5.4        3.9        1.7        0.4       0\n",
      "6        4.6        3.4        1.4        0.3       0\n",
      "7        5.0        3.4        1.5        0.2       0\n",
      "8        4.4        2.9        1.4        0.2       0\n",
      "9        4.9        3.1        1.5        0.1       0\n",
      "\n",
      "DataFrame Setelah Stratified Sampling:\n",
      "     feature_0  feature_1  feature_2  feature_3  target\n",
      "27         5.2        3.5        1.5        0.2       0\n",
      "35         5.0        3.2        1.2        0.2       0\n",
      "77         6.7        3.0        5.0        1.7       1\n",
      "85         6.0        3.4        4.5        1.6       1\n",
      "127        6.1        3.0        4.9        1.8       2\n",
      "135        7.7        3.0        6.1        2.3       2\n"
     ]
    },
    {
     "name": "stderr",
     "output_type": "stream",
     "text": [
      "C:\\Users\\Nila Farihah\\AppData\\Local\\Temp\\ipykernel_9056\\1682034804.py:19: DeprecationWarning: DataFrameGroupBy.apply operated on the grouping columns. This behavior is deprecated, and in a future version of pandas the grouping columns will be excluded from the operation. Either pass `include_groups=False` to exclude the groupings or explicitly select the grouping columns after groupby to silence this warning.\n",
      "  stratified_sample = df.groupby('target', group_keys=False).apply(lambda x: x.sample(2, random_state=1))\n"
     ]
    }
   ],
   "source": [
    "import pandas as pd\n",
    "from sklearn.datasets import load_iris\n",
    "from sklearn.model_selection import train_test_split\n",
    "\n",
    "    # Load dataset Iris\n",
    "iris = load_iris()\n",
    "X = iris.data\n",
    "y = iris.target\n",
    "\n",
    "    # Buat DataFrame\n",
    "df = pd.DataFrame(data=X, columns=[f'feature_{i}' for i in range(X.shape[1])])\n",
    "df['target'] = y\n",
    "\n",
    "    # Tampilan DataFrame asli\n",
    "print(\"DataFrame Asli:\")\n",
    "print(df.head(10))\n",
    "\n",
    "    # Stratified Sampling berdasarkan variabel 'target' \n",
    "stratified_sample = df.groupby('target', group_keys=False).apply(lambda x: x.sample(2, random_state=1))\n",
    "print(\"\\nDataFrame Setelah Stratified Sampling:\")\n",
    "print(stratified_sample)"
   ]
  },
  {
   "cell_type": "markdown",
   "id": "d262523b-3a6d-4f74-a13c-d7972269e41d",
   "metadata": {},
   "source": [
    "### 5.7 Seleksi Fitur\n",
    "Seleksi fitur adalah proses memilih subset fitur dari sekumpulan fitur yang ada dalam data, dengan tujuan meningkatkan kinerja model dan mengurangi kompleksitas.\n",
    "\n",
    "### 5.7.1 Tujuan Seleksi Fitur\n",
    "- Meningkatkan Kinerja Model :\n",
    "  - Memilih fitur yang paling informatif untuk meningkatkan akurasi dan generalisasi model.\n",
    "- Mengurangi Overfitting :\n",
    "  - Menghindari penggunaan fitur yang redundant atau tidak relevan untuk mengurangi risiko overfitting.\n",
    "- Efisiensi Komputasi :\n",
    "  - Mengurangi dimensi data untuk meningkatkan efisiensi komputasi, terutama pada dataset yang besar.\n",
    "\n",
    "### 5.7.2 Metode Seleksi Fitur\n",
    "- Filter Methods Metode ini menggunakan metrik statistik untuk menilai korelasi antara fitur dan target. Contoh: Pengujian ANOVA, Korelasi Pearson.\n",
    "- Wrapper Methods Dengan mengevaluasi kinerja model dengan subset fitur tertentu. Contoh: Recursive Feature Elimination (RFE), Forward Selection.\n",
    "- Embedded Methods Menyeleksi fitur terintegrasi dengan proses pembuatan model. Contoh: Regresi Lasso, Pemilihan Fitur berbasis Pohon (Tree-based Feature Selection).\n",
    "\n",
    "### 5.7.3 Teknik Seleksi Fitur\n",
    "- Analisis Korelasi, memahami hubungan antara fitur dan target untuk mengidentifikasi fitur yang paling relevan.\n",
    "- Keterkaitan dengan Bisnis/Tujuan, menyesuaikan seleksi fitur dengan tujuan bisnis atau analisis spesifik.\n",
    "- Validasi Silang (Cross-Validation), mengevaluasi kinerja seleksi fitur melalui teknik validasi silang untuk memastikan generalisasi yang baik."
   ]
  },
  {
   "cell_type": "code",
   "execution_count": 4,
   "id": "0e232112-d171-437d-a04e-6b85a6bead4e",
   "metadata": {},
   "outputs": [
    {
     "name": "stdout",
     "output_type": "stream",
     "text": [
      "DataFrame Asli:\n",
      "   feature_0  feature_1  feature_2  feature_3  target\n",
      "0        5.1        3.5        1.4        0.2       0\n",
      "1        4.9        3.0        1.4        0.2       0\n",
      "2        4.7        3.2        1.3        0.2       0\n",
      "3        4.6        3.1        1.5        0.2       0\n",
      "4        5.0        3.6        1.4        0.2       0\n",
      "5        5.4        3.9        1.7        0.4       0\n",
      "6        4.6        3.4        1.4        0.3       0\n",
      "7        5.0        3.4        1.5        0.2       0\n",
      "8        4.4        2.9        1.4        0.2       0\n",
      "9        4.9        3.1        1.5        0.1       0\n",
      "\n",
      "DataFrame Setelah Seleksi Fitur:\n",
      "   selected_feature_1  selected_feature_2  target\n",
      "0                 1.4                 0.2       0\n",
      "1                 1.4                 0.2       0\n",
      "2                 1.3                 0.2       0\n",
      "3                 1.5                 0.2       0\n",
      "4                 1.4                 0.2       0\n",
      "5                 1.7                 0.4       0\n",
      "6                 1.4                 0.3       0\n",
      "7                 1.5                 0.2       0\n",
      "8                 1.4                 0.2       0\n",
      "9                 1.5                 0.1       0\n"
     ]
    }
   ],
   "source": [
    "import pandas as pd\n",
    "from sklearn.datasets import load_iris\n",
    "from sklearn.feature_selection import SelectKBest\n",
    "from sklearn.feature_selection import f_classif\n",
    "\n",
    "    # Load dataset contoh\n",
    "iris = load_iris()\n",
    "X = iris.data\n",
    "y = iris.target\n",
    "\n",
    "# Buat DataFrame\n",
    "df = pd.DataFrame(data=X, columns=[f'feature_{i}' for i in range(X.shape[1])])\n",
    "df['target'] = y\n",
    "\n",
    "    # Tampilan DataFrame asli\n",
    "print(\"DataFrame Asli:\")\n",
    "print(df.head(10))\n",
    "\n",
    "    # Seleksi Fitur dengan ANOVA (f_classif)\n",
    "k_best = SelectKBest(score_func=f_classif, k=2)  # Pilih 2 fitur terbaik\n",
    "X_selected = k_best.fit_transform(X, y)\n",
    "\n",
    "    # Tampilan DataFrame setelah seleksi fitur\n",
    "selected_df = pd.DataFrame(data=X_selected, columns=['selected_feature_1', 'selected_feature_2'])\n",
    "selected_df['target'] = y\n",
    "print(\"\\nDataFrame Setelah Seleksi Fitur:\")\n",
    "print(selected_df.head(10))"
   ]
  },
  {
   "cell_type": "markdown",
   "id": "626bb827-5cff-4933-9488-78804a15d6a1",
   "metadata": {},
   "source": [
    "### 5.8 Train Test Split\n",
    "- Membagi data menjadi subset pelatihan dan pengujian.\n",
    "- Umumnya digunakan untuk mengevaluasi kinerja model."
   ]
  },
  {
   "cell_type": "code",
   "execution_count": 5,
   "id": "9156e56e-83f8-468e-95dc-b84e0fb124d8",
   "metadata": {},
   "outputs": [
    {
     "name": "stdout",
     "output_type": "stream",
     "text": [
      "\n",
      "DataFrame Train Setelah Train-Test Split:\n",
      "     feature_0  feature_1  feature_2  feature_3  target\n",
      "91         6.1        3.0        4.6        1.4       1\n",
      "135        7.7        3.0        6.1        2.3       2\n",
      "69         5.6        2.5        3.9        1.1       1\n",
      "128        6.4        2.8        5.6        2.1       2\n",
      "114        5.8        2.8        5.1        2.4       2\n",
      "48         5.3        3.7        1.5        0.2       0\n",
      "53         5.5        2.3        4.0        1.3       1\n",
      "28         5.2        3.4        1.4        0.2       0\n",
      "54         6.5        2.8        4.6        1.5       1\n",
      "108        6.7        2.5        5.8        1.8       2\n",
      "\n",
      "DataFrame Test Setelah Train-Test Split:\n",
      "     feature_0  feature_1  feature_2  feature_3  target\n",
      "14         5.8        4.0        1.2        0.2       0\n",
      "98         5.1        2.5        3.0        1.1       1\n",
      "75         6.6        3.0        4.4        1.4       1\n",
      "16         5.4        3.9        1.3        0.4       0\n",
      "131        7.9        3.8        6.4        2.0       2\n",
      "56         6.3        3.3        4.7        1.6       1\n",
      "141        6.9        3.1        5.1        2.3       2\n",
      "44         5.1        3.8        1.9        0.4       0\n",
      "29         4.7        3.2        1.6        0.2       0\n",
      "120        6.9        3.2        5.7        2.3       2\n"
     ]
    }
   ],
   "source": [
    "# Train-Test Split (80% train, 20% test)\n",
    "train_df, test_df = train_test_split(df, test_size=0.2, random_state=1)\n",
    "print(\"\\nDataFrame Train Setelah Train-Test Split:\")\n",
    "print(train_df.head(10))\n",
    "print(\"\\nDataFrame Test Setelah Train-Test Split:\")\n",
    "print(test_df.head(10))"
   ]
  },
  {
   "cell_type": "code",
   "execution_count": null,
   "id": "92d8bf46-5b77-4eb8-b823-d9f116093755",
   "metadata": {},
   "outputs": [],
   "source": []
  }
 ],
 "metadata": {
  "kernelspec": {
   "display_name": "Python 3 (ipykernel)",
   "language": "python",
   "name": "python3"
  },
  "language_info": {
   "codemirror_mode": {
    "name": "ipython",
    "version": 3
   },
   "file_extension": ".py",
   "mimetype": "text/x-python",
   "name": "python",
   "nbconvert_exporter": "python",
   "pygments_lexer": "ipython3",
   "version": "3.12.2"
  }
 },
 "nbformat": 4,
 "nbformat_minor": 5
}
